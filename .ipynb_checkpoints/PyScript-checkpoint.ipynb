{
 "cells": [
  {
   "cell_type": "code",
   "execution_count": 2,
   "metadata": {},
   "outputs": [],
   "source": [
    "import pandas as pd"
   ]
  },
  {
   "cell_type": "code",
   "execution_count": 3,
   "metadata": {},
   "outputs": [],
   "source": [
    "def get_age(name):\n",
    "    df = pd.read_excel(\"test.xlsx\", sheet_name=\"Sheet1\", headers=True)\n",
    "    print(\"*\"*20)\n",
    "    print(df)\n",
    "    print(\"*\"*20)\n",
    "    \n",
    "    rows, cols = df[df['Name']==name].shape\n",
    "    print(rows, cols, \"^^^\")\n",
    "    if rows==1:\n",
    "        age = df[df['Name']==name]['Age'][0]\n",
    "        return age\n",
    "    else:\n",
    "        return -1\n",
    "    \n",
    "def get_all_above_age(age):\n",
    "    df = pd.read_excel(\"test.xlsx\", sheet_name=\"Sheet1\", headers=True)\n",
    "    df_filter = df[(df['Profession'].str.contains(\"Developer\")) & (df['Age']>age)]\n",
    "    print(\"&&&&&&&&&&&&&&&&\")\n",
    "    print(df_filter)\n",
    "    print(\"&&&&&&&&&&&&&&&&\")\n",
    "    return df_filter.to_json(orient='records')\n",
    "\n",
    "\n",
    "def get_2_values(name):\n",
    "    return (name,str(get_age(name)))"
   ]
  },
  {
   "cell_type": "code",
   "execution_count": 37,
   "metadata": {},
   "outputs": [
    {
     "data": {
      "text/plain": [
       "Name          object\n",
       "Age            int64\n",
       "Profession    object\n",
       "dtype: object"
      ]
     },
     "execution_count": 37,
     "metadata": {},
     "output_type": "execute_result"
    }
   ],
   "source": [
    "df.dtypes"
   ]
  },
  {
   "cell_type": "code",
   "execution_count": 4,
   "metadata": {},
   "outputs": [
    {
     "name": "stdout",
     "output_type": "stream",
     "text": [
      "********************\n",
      "    Name  Age       Profession\n",
      "0    Ram   20          Student\n",
      "1  Shyam   34        Architect\n",
      "2  Mohan   35  Product Manager\n",
      "3  Sohan   46          Manager\n",
      "4  Rohan   28        Developer\n",
      "5    Raj   27        Developer\n",
      "********************\n",
      "1 3 ^^^\n",
      "20\n",
      "&&&&&&&&&&&&&&&&\n",
      "    Name  Age Profession\n",
      "4  Rohan   28  Developer\n",
      "5    Raj   27  Developer\n",
      "&&&&&&&&&&&&&&&&\n",
      "[{\"Name\":\"Rohan\",\"Age\":28,\"Profession\":\"Developer\"},{\"Name\":\"Raj\",\"Age\":27,\"Profession\":\"Developer\"}]\n",
      "********************\n",
      "    Name  Age       Profession\n",
      "0    Ram   20          Student\n",
      "1  Shyam   34        Architect\n",
      "2  Mohan   35  Product Manager\n",
      "3  Sohan   46          Manager\n",
      "4  Rohan   28        Developer\n",
      "5    Raj   27        Developer\n",
      "********************\n",
      "1 3 ^^^\n",
      "('Ram', '20')\n"
     ]
    }
   ],
   "source": [
    "print(get_age(\"Ram\"))\n",
    "\n",
    "print(get_all_above_age(25))\n",
    "\n",
    "print(get_2_values(\"Ram\"))"
   ]
  }
 ],
 "metadata": {
  "kernelspec": {
   "display_name": "Python 3",
   "language": "python",
   "name": "python3"
  },
  "language_info": {
   "codemirror_mode": {
    "name": "ipython",
    "version": 3
   },
   "file_extension": ".py",
   "mimetype": "text/x-python",
   "name": "python",
   "nbconvert_exporter": "python",
   "pygments_lexer": "ipython3",
   "version": "3.8.3"
  }
 },
 "nbformat": 4,
 "nbformat_minor": 4
}
